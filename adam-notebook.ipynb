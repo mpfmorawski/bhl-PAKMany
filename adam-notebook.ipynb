{
 "cells": [
  {
   "cell_type": "code",
   "execution_count": 59,
   "metadata": {},
   "outputs": [],
   "source": [
    "import pandas as pd\n",
    "import numpy as np"
   ]
  },
  {
   "cell_type": "code",
   "execution_count": 131,
   "metadata": {},
   "outputs": [
    {
     "name": "stderr",
     "output_type": "stream",
     "text": [
      "/var/folders/51/svyxncy90c19w1j2cby059bm0000gn/T/ipykernel_19821/2132394297.py:1: FutureWarning: The error_bad_lines argument has been deprecated and will be removed in a future version. Use on_bad_lines in the future.\n",
      "\n",
      "\n",
      "  data = pd.read_csv('data/train_data.csv', error_bad_lines=False)\n",
      "b'Skipping line 5856: expected 40 fields, saw 70\\nSkipping line 7939: expected 40 fields, saw 49\\n'\n"
     ]
    }
   ],
   "source": [
    "data = pd.read_csv('data/train_data.csv', error_bad_lines=False)"
   ]
  },
  {
   "cell_type": "code",
   "execution_count": 32,
   "metadata": {},
   "outputs": [],
   "source": [
    "lot_f = 'LTFRONT'\n",
    "lot_d = 'LTDEPTH'\n",
    "bld_f = 'BLDFRONT'\n",
    "bld_d = 'BLDDEPTH'\n",
    "\n",
    "area_data = pd.DataFrame(data[(data[lot_f] > 0) & (data[lot_d] > 0) & (data[bld_f] > 0) & (data[bld_d] > 0)], columns=[lot_f, lot_d, bld_f, bld_d])"
   ]
  },
  {
   "cell_type": "code",
   "execution_count": 41,
   "metadata": {},
   "outputs": [
    {
     "name": "stdout",
     "output_type": "stream",
     "text": [
      "Front: mean 11.060518034374244\t std: 45.07528268290128\n",
      "Depth: mean 49.48995400629388\t std: 49.1858577008738\n"
     ]
    }
   ],
   "source": [
    "front_mean = (area_data[lot_f] - area_data[bld_f]).mean()\n",
    "front_std = (area_data[lot_f] - area_data[bld_f]).std()\n",
    "depth_mean = (area_data[lot_d] - area_data[bld_d]).mean()\n",
    "depth_std = (area_data[lot_d] - area_data[bld_d]).std()\n",
    "\n",
    "\n",
    "print(f'Front: mean {front_mean}\\t std: {front_std}\\nDepth: mean {depth_mean}\\t std: {depth_std}')"
   ]
  },
  {
   "cell_type": "code",
   "execution_count": 103,
   "metadata": {},
   "outputs": [],
   "source": [
    "def get_mean_column_value_for_boro(data, column_name: str, boro: int, include_zeros: bool = False):\n",
    "    column_vals = data[data['BORO'] == boro][column_name]\n",
    "    if include_zeros:\n",
    "        return np.mean(column_vals)\n",
    "    else:\n",
    "        return np.mean(column_vals[column_vals != 0])"
   ]
  },
  {
   "cell_type": "code",
   "execution_count": 134,
   "metadata": {},
   "outputs": [],
   "source": [
    "def fill_missing_column_values_with_mean_for_boro(data, column_name: str):\n",
    "    data_filled = data.copy()\n",
    "    for i, row in data_filled.iterrows():\n",
    "        data_filled.at[i, column_name] = get_mean_column_value_for_boro(data_filled, column_name, row['BORO'])\n",
    "    return data_filled"
   ]
  },
  {
   "cell_type": "code",
   "execution_count": 130,
   "metadata": {},
   "outputs": [],
   "source": [
    "def replace_lengths_with_areas(data):\n",
    "    data_with_area = data.copy()\n",
    "    lot_f = 'LTFRONT'\n",
    "    lot_d = 'LTDEPTH'\n",
    "    bld_f = 'BLDFRONT'\n",
    "    bld_d = 'BLDDEPTH'\n",
    "    data_with_area['LTAREA'] = data[lot_f] * data[lot_d]\n",
    "    data_with_area['BLDAREA'] = data[bld_f] * data[bld_d]\n",
    "    data_with_area['LTAREA'] = np.where(data_with_area['LTAREA'] == 0, data_with_area['BLDAREA'], data_with_area['LTAREA'])\n",
    "    data_with_area['BLDAREA'] = np.where(data_with_area['BLDAREA'] == 0, data_with_area['LTAREA'], data_with_area['BLDAREA'])\n",
    "    \n",
    "    for len_col_name in [lot_f, lot_d, bld_f, bld_d]:\n",
    "        del data_with_area[len_col_name]\n",
    "    return data_with_area"
   ]
  },
  {
   "cell_type": "code",
   "execution_count": 57,
   "metadata": {},
   "outputs": [],
   "source": [
    "data_with_area = data.copy()\n",
    "data_with_area['LTAREA'] = data[lot_f] * data[lot_d]\n",
    "data_with_area['BLDAREA'] = data[bld_f] * data[bld_d]"
   ]
  },
  {
   "cell_type": "code",
   "execution_count": 61,
   "metadata": {},
   "outputs": [],
   "source": [
    "data_with_area['LTAREA'] = np.where(data_with_area['LTAREA'] == 0, data_with_area['BLDAREA'], data_with_area['LTAREA'])"
   ]
  },
  {
   "cell_type": "code",
   "execution_count": 132,
   "metadata": {},
   "outputs": [],
   "source": [
    "data_with_area = replace_lengths_with_areas(data)"
   ]
  },
  {
   "cell_type": "code",
   "execution_count": 137,
   "metadata": {},
   "outputs": [],
   "source": [
    "data_with_area_filled = fill_missing_column_values_with_mean_for_boro(data_with_area, 'LTAREA')\n",
    "data_with_area_filled = fill_missing_column_values_with_mean_for_boro(data_with_area_filled, 'BLDAREA')"
   ]
  },
  {
   "cell_type": "code",
   "execution_count": 113,
   "metadata": {},
   "outputs": [
    {
     "data": {
      "text/plain": [
       "20278.494930875644"
      ]
     },
     "execution_count": 113,
     "metadata": {},
     "output_type": "execute_result"
    }
   ],
   "source": [
    "get_mean_column_value_for_boro(data_with_area, 'LTAREA', 1)"
   ]
  },
  {
   "cell_type": "code",
   "execution_count": 93,
   "metadata": {},
   "outputs": [],
   "source": [
    "column_vals = data_with_area[data['BORO'] == 1]['LTAREA']"
   ]
  }
 ],
 "metadata": {
  "interpreter": {
   "hash": "3ef21b57a821813d34917d5bd52847c638dce0dd35d3617bbb16c5be26f1ccd8"
  },
  "kernelspec": {
   "display_name": "Python 3.9.12 ('pakmany')",
   "language": "python",
   "name": "python3"
  },
  "language_info": {
   "codemirror_mode": {
    "name": "ipython",
    "version": 3
   },
   "file_extension": ".py",
   "mimetype": "text/x-python",
   "name": "python",
   "nbconvert_exporter": "python",
   "pygments_lexer": "ipython3",
   "version": "3.9.12"
  },
  "orig_nbformat": 4
 },
 "nbformat": 4,
 "nbformat_minor": 2
}
