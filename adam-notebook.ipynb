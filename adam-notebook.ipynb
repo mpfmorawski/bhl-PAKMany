{
 "cells": [
  {
   "cell_type": "code",
   "execution_count": 85,
   "metadata": {},
   "outputs": [],
   "source": [
    "import pandas as pd\n",
    "import numpy as np\n",
    "import matplotlib.pyplot as plt"
   ]
  },
  {
   "cell_type": "code",
   "execution_count": 131,
   "metadata": {},
   "outputs": [
    {
     "name": "stderr",
     "output_type": "stream",
     "text": [
      "/var/folders/51/svyxncy90c19w1j2cby059bm0000gn/T/ipykernel_19821/2132394297.py:1: FutureWarning: The error_bad_lines argument has been deprecated and will be removed in a future version. Use on_bad_lines in the future.\n",
      "\n",
      "\n",
      "  data = pd.read_csv('data/train_data.csv', error_bad_lines=False)\n",
      "b'Skipping line 5856: expected 40 fields, saw 70\\nSkipping line 7939: expected 40 fields, saw 49\\n'\n"
     ]
    }
   ],
   "source": [
    "data = pd.read_csv('data/train_data.csv', error_bad_lines=False)"
   ]
  },
  {
   "cell_type": "code",
   "execution_count": 32,
   "metadata": {},
   "outputs": [],
   "source": [
    "lot_f = 'LTFRONT'\n",
    "lot_d = 'LTDEPTH'\n",
    "bld_f = 'BLDFRONT'\n",
    "bld_d = 'BLDDEPTH'\n",
    "\n",
    "area_data = pd.DataFrame(data[(data[lot_f] > 0) & (data[lot_d] > 0) & (data[bld_f] > 0) & (data[bld_d] > 0)], columns=[lot_f, lot_d, bld_f, bld_d])"
   ]
  },
  {
   "cell_type": "code",
   "execution_count": 41,
   "metadata": {},
   "outputs": [
    {
     "name": "stdout",
     "output_type": "stream",
     "text": [
      "Front: mean 11.060518034374244\t std: 45.07528268290128\n",
      "Depth: mean 49.48995400629388\t std: 49.1858577008738\n"
     ]
    }
   ],
   "source": [
    "front_mean = (area_data[lot_f] - area_data[bld_f]).mean()\n",
    "front_std = (area_data[lot_f] - area_data[bld_f]).std()\n",
    "depth_mean = (area_data[lot_d] - area_data[bld_d]).mean()\n",
    "depth_std = (area_data[lot_d] - area_data[bld_d]).std()\n",
    "\n",
    "\n",
    "print(f'Front: mean {front_mean}\\t std: {front_std}\\nDepth: mean {depth_mean}\\t std: {depth_std}')"
   ]
  },
  {
   "cell_type": "code",
   "execution_count": 103,
   "metadata": {},
   "outputs": [],
   "source": [
    "def get_mean_column_value_for_boro(data, column_name: str, boro: int, include_zeros: bool = False):\n",
    "    column_vals = data[data['BORO'] == boro][column_name]\n",
    "    if include_zeros:\n",
    "        return np.mean(column_vals)\n",
    "    else:\n",
    "        return np.mean(column_vals[column_vals != 0])"
   ]
  },
  {
   "cell_type": "code",
   "execution_count": 134,
   "metadata": {},
   "outputs": [],
   "source": [
    "def fill_missing_column_values_with_mean_for_boro(data, column_name: str):\n",
    "    data_filled = data.copy()\n",
    "    for i, row in data_filled.iterrows():\n",
    "        data_filled.at[i, column_name] = get_mean_column_value_for_boro(data_filled, column_name, row['BORO'])\n",
    "    return data_filled"
   ]
  },
  {
   "cell_type": "code",
   "execution_count": 130,
   "metadata": {},
   "outputs": [],
   "source": [
    "def replace_lengths_with_areas(data):\n",
    "    data_with_area = data.copy()\n",
    "    lot_f = 'LTFRONT'\n",
    "    lot_d = 'LTDEPTH'\n",
    "    bld_f = 'BLDFRONT'\n",
    "    bld_d = 'BLDDEPTH'\n",
    "    data_with_area['LTAREA'] = data[lot_f] * data[lot_d]\n",
    "    data_with_area['BLDAREA'] = data[bld_f] * data[bld_d]\n",
    "    data_with_area['LTAREA'] = np.where(data_with_area['LTAREA'] == 0, data_with_area['BLDAREA'], data_with_area['LTAREA'])\n",
    "    data_with_area['BLDAREA'] = np.where(data_with_area['BLDAREA'] == 0, data_with_area['LTAREA'], data_with_area['BLDAREA'])\n",
    "    \n",
    "    for len_col_name in [lot_f, lot_d, bld_f, bld_d]:\n",
    "        del data_with_area[len_col_name]\n",
    "    return data_with_area"
   ]
  },
  {
   "cell_type": "code",
   "execution_count": 57,
   "metadata": {},
   "outputs": [],
   "source": [
    "data_with_area = data.copy()\n",
    "data_with_area['LTAREA'] = data[lot_f] * data[lot_d]\n",
    "data_with_area['BLDAREA'] = data[bld_f] * data[bld_d]"
   ]
  },
  {
   "cell_type": "code",
   "execution_count": 61,
   "metadata": {},
   "outputs": [],
   "source": [
    "data_with_area['LTAREA'] = np.where(data_with_area['LTAREA'] == 0, data_with_area['BLDAREA'], data_with_area['LTAREA'])"
   ]
  },
  {
   "cell_type": "code",
   "execution_count": 132,
   "metadata": {},
   "outputs": [],
   "source": [
    "data_with_area = replace_lengths_with_areas(data)"
   ]
  },
  {
   "cell_type": "code",
   "execution_count": 137,
   "metadata": {},
   "outputs": [],
   "source": [
    "data_with_area_filled = fill_missing_column_values_with_mean_for_boro(data_with_area, 'LTAREA')\n",
    "data_with_area_filled = fill_missing_column_values_with_mean_for_boro(data_with_area_filled, 'BLDAREA')"
   ]
  },
  {
   "cell_type": "code",
   "execution_count": 113,
   "metadata": {},
   "outputs": [
    {
     "data": {
      "text/plain": [
       "20278.494930875644"
      ]
     },
     "execution_count": 113,
     "metadata": {},
     "output_type": "execute_result"
    }
   ],
   "source": [
    "get_mean_column_value_for_boro(data_with_area, 'LTAREA', 1)"
   ]
  },
  {
   "cell_type": "code",
   "execution_count": 93,
   "metadata": {},
   "outputs": [],
   "source": [
    "column_vals = data_with_area[data['BORO'] == 1]['LTAREA']"
   ]
  },
  {
   "cell_type": "code",
   "execution_count": 101,
   "metadata": {},
   "outputs": [
    {
     "data": {
      "text/plain": [
       "array([[ 0.01834275],\n",
       "       [-0.05684651],\n",
       "       [-0.06132275],\n",
       "       ...,\n",
       "       [-0.06345824],\n",
       "       [-0.06243566],\n",
       "       [-0.06008669]])"
      ]
     },
     "execution_count": 101,
     "metadata": {},
     "output_type": "execute_result"
    }
   ],
   "source": [
    "from sklearn import preprocessing\n",
    "avland = data['AVLAND'].to_numpy()\n",
    "std_scaler = preprocessing.StandardScaler()\n",
    "std_scaler.fit(avland.reshape(-1, 1))\n",
    "avland_scaled = std_scaler.transform(avland.reshape(-1, 1))\n",
    "# plt.plot(avland_scaled)\n",
    "avland_scaled"
   ]
  },
  {
   "cell_type": "code",
   "execution_count": 147,
   "metadata": {},
   "outputs": [
    {
     "name": "stdout",
     "output_type": "stream",
     "text": [
      "            FULLVAL\n",
      "FULLVAL    1.000000\n",
      "STORIES   -0.123290\n",
      "AVLAND     0.658087\n",
      "AVTOT      1.000000\n",
      "EXLAND     0.521816\n",
      "EXTOT      0.611863\n",
      "AVLAND2    0.699934\n",
      "AVTOT2     0.988892\n",
      "EXLAND2    0.516609\n",
      "EXTOT2     0.604629\n",
      "Latitude   0.305759\n",
      "Longitude  0.313090\n",
      "LTAREA     0.317053\n",
      "BLDAREA    0.217378\n"
     ]
    }
   ],
   "source": [
    "import src.Preprocessing as pp\n",
    "import importlib\n",
    "importlib.reload(pp)\n",
    "\n",
    "preproc = pp.Preprocessing('data/train_data.csv')\n",
    "X, y = preproc.run(0.7, ['2'], 1)"
   ]
  },
  {
   "cell_type": "code",
   "execution_count": 146,
   "metadata": {},
   "outputs": [
    {
     "data": {
      "text/html": [
       "<div>\n",
       "<style scoped>\n",
       "    .dataframe tbody tr th:only-of-type {\n",
       "        vertical-align: middle;\n",
       "    }\n",
       "\n",
       "    .dataframe tbody tr th {\n",
       "        vertical-align: top;\n",
       "    }\n",
       "\n",
       "    .dataframe thead th {\n",
       "        text-align: right;\n",
       "    }\n",
       "</style>\n",
       "<table border=\"1\" class=\"dataframe\">\n",
       "  <thead>\n",
       "    <tr style=\"text-align: right;\">\n",
       "      <th></th>\n",
       "      <th>STORIES</th>\n",
       "      <th>AVLAND</th>\n",
       "      <th>AVTOT</th>\n",
       "      <th>EXLAND</th>\n",
       "      <th>EXTOT</th>\n",
       "      <th>AVLAND2</th>\n",
       "      <th>AVTOT2</th>\n",
       "      <th>EXLAND2</th>\n",
       "      <th>EXTOT2</th>\n",
       "      <th>Latitude</th>\n",
       "      <th>Longitude</th>\n",
       "      <th>LTAREA</th>\n",
       "      <th>BLDAREA</th>\n",
       "    </tr>\n",
       "  </thead>\n",
       "  <tbody>\n",
       "    <tr>\n",
       "      <th>0</th>\n",
       "      <td>0.441102</td>\n",
       "      <td>-0.173742</td>\n",
       "      <td>-0.312173</td>\n",
       "      <td>0.165863</td>\n",
       "      <td>-0.004853</td>\n",
       "      <td>-0.178955</td>\n",
       "      <td>-0.307608</td>\n",
       "      <td>0.198283</td>\n",
       "      <td>0.007340</td>\n",
       "      <td>-0.228062</td>\n",
       "      <td>-0.289753</td>\n",
       "      <td>-0.474110</td>\n",
       "      <td>-0.464399</td>\n",
       "    </tr>\n",
       "    <tr>\n",
       "      <th>1</th>\n",
       "      <td>0.577516</td>\n",
       "      <td>-0.211208</td>\n",
       "      <td>-0.352585</td>\n",
       "      <td>-0.210752</td>\n",
       "      <td>-0.229057</td>\n",
       "      <td>-0.222434</td>\n",
       "      <td>-0.354913</td>\n",
       "      <td>-0.214121</td>\n",
       "      <td>-0.230640</td>\n",
       "      <td>-0.245862</td>\n",
       "      <td>-0.126036</td>\n",
       "      <td>0.778021</td>\n",
       "      <td>0.879112</td>\n",
       "    </tr>\n",
       "    <tr>\n",
       "      <th>2</th>\n",
       "      <td>0.713929</td>\n",
       "      <td>-0.193859</td>\n",
       "      <td>-0.346498</td>\n",
       "      <td>0.095769</td>\n",
       "      <td>-0.062069</td>\n",
       "      <td>-0.202300</td>\n",
       "      <td>-0.341757</td>\n",
       "      <td>0.121527</td>\n",
       "      <td>-0.049821</td>\n",
       "      <td>-0.224739</td>\n",
       "      <td>-0.313780</td>\n",
       "      <td>-0.474110</td>\n",
       "      <td>-0.464399</td>\n",
       "    </tr>\n",
       "    <tr>\n",
       "      <th>3</th>\n",
       "      <td>0.168275</td>\n",
       "      <td>-0.218568</td>\n",
       "      <td>-0.142727</td>\n",
       "      <td>-0.210752</td>\n",
       "      <td>-0.229057</td>\n",
       "      <td>-0.230975</td>\n",
       "      <td>-0.155786</td>\n",
       "      <td>-0.214121</td>\n",
       "      <td>-0.230640</td>\n",
       "      <td>-0.104787</td>\n",
       "      <td>-0.090177</td>\n",
       "      <td>-0.104431</td>\n",
       "      <td>-0.067741</td>\n",
       "    </tr>\n",
       "    <tr>\n",
       "      <th>4</th>\n",
       "      <td>-0.445586</td>\n",
       "      <td>0.144921</td>\n",
       "      <td>0.362670</td>\n",
       "      <td>-0.210752</td>\n",
       "      <td>-0.229057</td>\n",
       "      <td>0.190856</td>\n",
       "      <td>0.435277</td>\n",
       "      <td>-0.214121</td>\n",
       "      <td>-0.230640</td>\n",
       "      <td>-0.071581</td>\n",
       "      <td>-0.124053</td>\n",
       "      <td>-0.474110</td>\n",
       "      <td>-0.464399</td>\n",
       "    </tr>\n",
       "    <tr>\n",
       "      <th>...</th>\n",
       "      <td>...</td>\n",
       "      <td>...</td>\n",
       "      <td>...</td>\n",
       "      <td>...</td>\n",
       "      <td>...</td>\n",
       "      <td>...</td>\n",
       "      <td>...</td>\n",
       "      <td>...</td>\n",
       "      <td>...</td>\n",
       "      <td>...</td>\n",
       "      <td>...</td>\n",
       "      <td>...</td>\n",
       "      <td>...</td>\n",
       "    </tr>\n",
       "    <tr>\n",
       "      <th>2584</th>\n",
       "      <td>-0.650206</td>\n",
       "      <td>-0.258970</td>\n",
       "      <td>-0.420656</td>\n",
       "      <td>-0.210752</td>\n",
       "      <td>-0.229057</td>\n",
       "      <td>-0.277731</td>\n",
       "      <td>-0.423406</td>\n",
       "      <td>-0.214121</td>\n",
       "      <td>-0.230640</td>\n",
       "      <td>-1.939092</td>\n",
       "      <td>-2.653920</td>\n",
       "      <td>-0.474110</td>\n",
       "      <td>-0.464399</td>\n",
       "    </tr>\n",
       "    <tr>\n",
       "      <th>2585</th>\n",
       "      <td>-0.991240</td>\n",
       "      <td>-0.260757</td>\n",
       "      <td>-0.430938</td>\n",
       "      <td>-0.210752</td>\n",
       "      <td>-0.229057</td>\n",
       "      <td>-0.279935</td>\n",
       "      <td>-0.433945</td>\n",
       "      <td>-0.214121</td>\n",
       "      <td>-0.230640</td>\n",
       "      <td>-1.858626</td>\n",
       "      <td>-2.566661</td>\n",
       "      <td>-0.474110</td>\n",
       "      <td>-0.464399</td>\n",
       "    </tr>\n",
       "    <tr>\n",
       "      <th>2586</th>\n",
       "      <td>-0.650206</td>\n",
       "      <td>-0.245725</td>\n",
       "      <td>-0.405574</td>\n",
       "      <td>-0.210752</td>\n",
       "      <td>-0.229057</td>\n",
       "      <td>-0.262267</td>\n",
       "      <td>-0.408117</td>\n",
       "      <td>-0.214121</td>\n",
       "      <td>-0.230640</td>\n",
       "      <td>-1.939092</td>\n",
       "      <td>-2.653920</td>\n",
       "      <td>-0.474110</td>\n",
       "      <td>-0.464399</td>\n",
       "    </tr>\n",
       "    <tr>\n",
       "      <th>2587</th>\n",
       "      <td>-0.650206</td>\n",
       "      <td>-0.258676</td>\n",
       "      <td>-0.422063</td>\n",
       "      <td>-0.210752</td>\n",
       "      <td>-0.229057</td>\n",
       "      <td>-0.277521</td>\n",
       "      <td>-0.425083</td>\n",
       "      <td>-0.214121</td>\n",
       "      <td>-0.230640</td>\n",
       "      <td>-2.031541</td>\n",
       "      <td>-2.608039</td>\n",
       "      <td>-0.474110</td>\n",
       "      <td>-0.464399</td>\n",
       "    </tr>\n",
       "    <tr>\n",
       "      <th>2588</th>\n",
       "      <td>-0.923033</td>\n",
       "      <td>-0.281829</td>\n",
       "      <td>-0.446678</td>\n",
       "      <td>-0.210752</td>\n",
       "      <td>-0.229057</td>\n",
       "      <td>-0.304390</td>\n",
       "      <td>-0.449781</td>\n",
       "      <td>-0.214121</td>\n",
       "      <td>-0.230640</td>\n",
       "      <td>-2.038090</td>\n",
       "      <td>-2.598999</td>\n",
       "      <td>1.020985</td>\n",
       "      <td>1.139807</td>\n",
       "    </tr>\n",
       "  </tbody>\n",
       "</table>\n",
       "<p>2589 rows × 13 columns</p>\n",
       "</div>"
      ],
      "text/plain": [
       "       STORIES    AVLAND     AVTOT    EXLAND     EXTOT   AVLAND2    AVTOT2  \\\n",
       "0     0.441102 -0.173742 -0.312173  0.165863 -0.004853 -0.178955 -0.307608   \n",
       "1     0.577516 -0.211208 -0.352585 -0.210752 -0.229057 -0.222434 -0.354913   \n",
       "2     0.713929 -0.193859 -0.346498  0.095769 -0.062069 -0.202300 -0.341757   \n",
       "3     0.168275 -0.218568 -0.142727 -0.210752 -0.229057 -0.230975 -0.155786   \n",
       "4    -0.445586  0.144921  0.362670 -0.210752 -0.229057  0.190856  0.435277   \n",
       "...        ...       ...       ...       ...       ...       ...       ...   \n",
       "2584 -0.650206 -0.258970 -0.420656 -0.210752 -0.229057 -0.277731 -0.423406   \n",
       "2585 -0.991240 -0.260757 -0.430938 -0.210752 -0.229057 -0.279935 -0.433945   \n",
       "2586 -0.650206 -0.245725 -0.405574 -0.210752 -0.229057 -0.262267 -0.408117   \n",
       "2587 -0.650206 -0.258676 -0.422063 -0.210752 -0.229057 -0.277521 -0.425083   \n",
       "2588 -0.923033 -0.281829 -0.446678 -0.210752 -0.229057 -0.304390 -0.449781   \n",
       "\n",
       "       EXLAND2    EXTOT2  Latitude  Longitude    LTAREA   BLDAREA  \n",
       "0     0.198283  0.007340 -0.228062  -0.289753 -0.474110 -0.464399  \n",
       "1    -0.214121 -0.230640 -0.245862  -0.126036  0.778021  0.879112  \n",
       "2     0.121527 -0.049821 -0.224739  -0.313780 -0.474110 -0.464399  \n",
       "3    -0.214121 -0.230640 -0.104787  -0.090177 -0.104431 -0.067741  \n",
       "4    -0.214121 -0.230640 -0.071581  -0.124053 -0.474110 -0.464399  \n",
       "...        ...       ...       ...        ...       ...       ...  \n",
       "2584 -0.214121 -0.230640 -1.939092  -2.653920 -0.474110 -0.464399  \n",
       "2585 -0.214121 -0.230640 -1.858626  -2.566661 -0.474110 -0.464399  \n",
       "2586 -0.214121 -0.230640 -1.939092  -2.653920 -0.474110 -0.464399  \n",
       "2587 -0.214121 -0.230640 -2.031541  -2.608039 -0.474110 -0.464399  \n",
       "2588 -0.214121 -0.230640 -2.038090  -2.598999  1.020985  1.139807  \n",
       "\n",
       "[2589 rows x 13 columns]"
      ]
     },
     "execution_count": 146,
     "metadata": {},
     "output_type": "execute_result"
    }
   ],
   "source": [
    "X"
   ]
  },
  {
   "cell_type": "code",
   "execution_count": 128,
   "metadata": {},
   "outputs": [],
   "source": [
    "data['AVLAND2'] = data['AVLAND2'].fillna(0)"
   ]
  },
  {
   "cell_type": "code",
   "execution_count": 130,
   "metadata": {},
   "outputs": [
    {
     "data": {
      "text/plain": [
       "0        118035.0\n",
       "1         17301.0\n",
       "2         11304.0\n",
       "3         14081.0\n",
       "4         10126.0\n",
       "           ...   \n",
       "11941         0.0\n",
       "11942         0.0\n",
       "11943         0.0\n",
       "11944         0.0\n",
       "11945         0.0\n",
       "Name: AVLAND2, Length: 11946, dtype: float64"
      ]
     },
     "execution_count": 130,
     "metadata": {},
     "output_type": "execute_result"
    }
   ],
   "source": []
  }
 ],
 "metadata": {
  "interpreter": {
   "hash": "3ef21b57a821813d34917d5bd52847c638dce0dd35d3617bbb16c5be26f1ccd8"
  },
  "kernelspec": {
   "display_name": "Python 3.9.12 ('pakmany')",
   "language": "python",
   "name": "python3"
  },
  "language_info": {
   "codemirror_mode": {
    "name": "ipython",
    "version": 3
   },
   "file_extension": ".py",
   "mimetype": "text/x-python",
   "name": "python",
   "nbconvert_exporter": "python",
   "pygments_lexer": "ipython3",
   "version": "3.9.12"
  },
  "orig_nbformat": 4
 },
 "nbformat": 4,
 "nbformat_minor": 2
}
