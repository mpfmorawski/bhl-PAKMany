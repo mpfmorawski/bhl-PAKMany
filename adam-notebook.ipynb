{
 "cells": [
  {
   "cell_type": "code",
   "execution_count": 161,
   "metadata": {},
   "outputs": [],
   "source": [
    "import pandas as pd\n",
    "import numpy as np\n",
    "import matplotlib.pyplot as plt\n",
    "import tensorflow as tf"
   ]
  },
  {
   "cell_type": "code",
   "execution_count": 131,
   "metadata": {},
   "outputs": [
    {
     "name": "stderr",
     "output_type": "stream",
     "text": [
      "/var/folders/51/svyxncy90c19w1j2cby059bm0000gn/T/ipykernel_19821/2132394297.py:1: FutureWarning: The error_bad_lines argument has been deprecated and will be removed in a future version. Use on_bad_lines in the future.\n",
      "\n",
      "\n",
      "  data = pd.read_csv('data/train_data.csv', error_bad_lines=False)\n",
      "b'Skipping line 5856: expected 40 fields, saw 70\\nSkipping line 7939: expected 40 fields, saw 49\\n'\n"
     ]
    }
   ],
   "source": [
    "data = pd.read_csv('data/train_data.csv', error_bad_lines=False)"
   ]
  },
  {
   "cell_type": "code",
   "execution_count": 32,
   "metadata": {},
   "outputs": [],
   "source": [
    "lot_f = 'LTFRONT'\n",
    "lot_d = 'LTDEPTH'\n",
    "bld_f = 'BLDFRONT'\n",
    "bld_d = 'BLDDEPTH'\n",
    "\n",
    "area_data = pd.DataFrame(data[(data[lot_f] > 0) & (data[lot_d] > 0) & (data[bld_f] > 0) & (data[bld_d] > 0)], columns=[lot_f, lot_d, bld_f, bld_d])"
   ]
  },
  {
   "cell_type": "code",
   "execution_count": 41,
   "metadata": {},
   "outputs": [
    {
     "name": "stdout",
     "output_type": "stream",
     "text": [
      "Front: mean 11.060518034374244\t std: 45.07528268290128\n",
      "Depth: mean 49.48995400629388\t std: 49.1858577008738\n"
     ]
    }
   ],
   "source": [
    "front_mean = (area_data[lot_f] - area_data[bld_f]).mean()\n",
    "front_std = (area_data[lot_f] - area_data[bld_f]).std()\n",
    "depth_mean = (area_data[lot_d] - area_data[bld_d]).mean()\n",
    "depth_std = (area_data[lot_d] - area_data[bld_d]).std()\n",
    "\n",
    "\n",
    "print(f'Front: mean {front_mean}\\t std: {front_std}\\nDepth: mean {depth_mean}\\t std: {depth_std}')"
   ]
  },
  {
   "cell_type": "code",
   "execution_count": 103,
   "metadata": {},
   "outputs": [],
   "source": [
    "def get_mean_column_value_for_boro(data, column_name: str, boro: int, include_zeros: bool = False):\n",
    "    column_vals = data[data['BORO'] == boro][column_name]\n",
    "    if include_zeros:\n",
    "        return np.mean(column_vals)\n",
    "    else:\n",
    "        return np.mean(column_vals[column_vals != 0])"
   ]
  },
  {
   "cell_type": "code",
   "execution_count": 134,
   "metadata": {},
   "outputs": [],
   "source": [
    "def fill_missing_column_values_with_mean_for_boro(data, column_name: str):\n",
    "    data_filled = data.copy()\n",
    "    for i, row in data_filled.iterrows():\n",
    "        data_filled.at[i, column_name] = get_mean_column_value_for_boro(data_filled, column_name, row['BORO'])\n",
    "    return data_filled"
   ]
  },
  {
   "cell_type": "code",
   "execution_count": 130,
   "metadata": {},
   "outputs": [],
   "source": [
    "def replace_lengths_with_areas(data):\n",
    "    data_with_area = data.copy()\n",
    "    lot_f = 'LTFRONT'\n",
    "    lot_d = 'LTDEPTH'\n",
    "    bld_f = 'BLDFRONT'\n",
    "    bld_d = 'BLDDEPTH'\n",
    "    data_with_area['LTAREA'] = data[lot_f] * data[lot_d]\n",
    "    data_with_area['BLDAREA'] = data[bld_f] * data[bld_d]\n",
    "    data_with_area['LTAREA'] = np.where(data_with_area['LTAREA'] == 0, data_with_area['BLDAREA'], data_with_area['LTAREA'])\n",
    "    data_with_area['BLDAREA'] = np.where(data_with_area['BLDAREA'] == 0, data_with_area['LTAREA'], data_with_area['BLDAREA'])\n",
    "    \n",
    "    for len_col_name in [lot_f, lot_d, bld_f, bld_d]:\n",
    "        del data_with_area[len_col_name]\n",
    "    return data_with_area"
   ]
  },
  {
   "cell_type": "code",
   "execution_count": 57,
   "metadata": {},
   "outputs": [],
   "source": [
    "data_with_area = data.copy()\n",
    "data_with_area['LTAREA'] = data[lot_f] * data[lot_d]\n",
    "data_with_area['BLDAREA'] = data[bld_f] * data[bld_d]"
   ]
  },
  {
   "cell_type": "code",
   "execution_count": 61,
   "metadata": {},
   "outputs": [],
   "source": [
    "data_with_area['LTAREA'] = np.where(data_with_area['LTAREA'] == 0, data_with_area['BLDAREA'], data_with_area['LTAREA'])"
   ]
  },
  {
   "cell_type": "code",
   "execution_count": 132,
   "metadata": {},
   "outputs": [],
   "source": [
    "data_with_area = replace_lengths_with_areas(data)"
   ]
  },
  {
   "cell_type": "code",
   "execution_count": 137,
   "metadata": {},
   "outputs": [],
   "source": [
    "data_with_area_filled = fill_missing_column_values_with_mean_for_boro(data_with_area, 'LTAREA')\n",
    "data_with_area_filled = fill_missing_column_values_with_mean_for_boro(data_with_area_filled, 'BLDAREA')"
   ]
  },
  {
   "cell_type": "code",
   "execution_count": 113,
   "metadata": {},
   "outputs": [
    {
     "data": {
      "text/plain": [
       "20278.494930875644"
      ]
     },
     "execution_count": 113,
     "metadata": {},
     "output_type": "execute_result"
    }
   ],
   "source": [
    "get_mean_column_value_for_boro(data_with_area, 'LTAREA', 1)"
   ]
  },
  {
   "cell_type": "code",
   "execution_count": 93,
   "metadata": {},
   "outputs": [],
   "source": [
    "column_vals = data_with_area[data['BORO'] == 1]['LTAREA']"
   ]
  },
  {
   "cell_type": "code",
   "execution_count": 101,
   "metadata": {},
   "outputs": [
    {
     "data": {
      "text/plain": [
       "array([[ 0.01834275],\n",
       "       [-0.05684651],\n",
       "       [-0.06132275],\n",
       "       ...,\n",
       "       [-0.06345824],\n",
       "       [-0.06243566],\n",
       "       [-0.06008669]])"
      ]
     },
     "execution_count": 101,
     "metadata": {},
     "output_type": "execute_result"
    }
   ],
   "source": [
    "from sklearn import preprocessing\n",
    "avland = data['AVLAND'].to_numpy()\n",
    "std_scaler = preprocessing.StandardScaler()\n",
    "std_scaler.fit(avland.reshape(-1, 1))\n",
    "avland_scaled = std_scaler.transform(avland.reshape(-1, 1))\n",
    "# plt.plot(avland_scaled)\n",
    "avland_scaled"
   ]
  },
  {
   "cell_type": "code",
   "execution_count": 173,
   "metadata": {},
   "outputs": [
    {
     "name": "stdout",
     "output_type": "stream",
     "text": [
      "            FULLVAL\n",
      "FULLVAL    1.000000\n",
      "STORIES   -0.123290\n",
      "AVLAND     0.658087\n",
      "AVTOT      1.000000\n",
      "EXLAND     0.521816\n",
      "EXTOT      0.611863\n",
      "AVLAND2    0.699934\n",
      "AVTOT2     0.988892\n",
      "EXLAND2    0.516609\n",
      "EXTOT2     0.604629\n",
      "Latitude   0.305759\n",
      "Longitude  0.313090\n",
      "LTAREA     0.317053\n",
      "BLDAREA    0.217378\n"
     ]
    }
   ],
   "source": [
    "import src.Preprocessing as pp\n",
    "import importlib\n",
    "importlib.reload(pp)\n",
    "\n",
    "preproc = pp.Preprocessing('data/train_data.csv')\n",
    "X, y = preproc.run(0.7, ['2'], 1)"
   ]
  },
  {
   "cell_type": "code",
   "execution_count": 174,
   "metadata": {},
   "outputs": [
    {
     "data": {
      "text/html": [
       "<div>\n",
       "<style scoped>\n",
       "    .dataframe tbody tr th:only-of-type {\n",
       "        vertical-align: middle;\n",
       "    }\n",
       "\n",
       "    .dataframe tbody tr th {\n",
       "        vertical-align: top;\n",
       "    }\n",
       "\n",
       "    .dataframe thead th {\n",
       "        text-align: right;\n",
       "    }\n",
       "</style>\n",
       "<table border=\"1\" class=\"dataframe\">\n",
       "  <thead>\n",
       "    <tr style=\"text-align: right;\">\n",
       "      <th></th>\n",
       "      <th>AVLAND</th>\n",
       "      <th>AVTOT</th>\n",
       "      <th>EXLAND</th>\n",
       "      <th>EXTOT</th>\n",
       "      <th>AVLAND2</th>\n",
       "      <th>AVTOT2</th>\n",
       "      <th>EXLAND2</th>\n",
       "      <th>EXTOT2</th>\n",
       "      <th>Latitude</th>\n",
       "      <th>Longitude</th>\n",
       "      <th>LTAREA</th>\n",
       "      <th>BLDAREA</th>\n",
       "    </tr>\n",
       "  </thead>\n",
       "  <tbody>\n",
       "    <tr>\n",
       "      <th>0</th>\n",
       "      <td>-0.173742</td>\n",
       "      <td>-0.312173</td>\n",
       "      <td>0.165863</td>\n",
       "      <td>-0.004853</td>\n",
       "      <td>-0.178955</td>\n",
       "      <td>-0.307608</td>\n",
       "      <td>0.198283</td>\n",
       "      <td>0.007340</td>\n",
       "      <td>-0.228062</td>\n",
       "      <td>-0.289753</td>\n",
       "      <td>-0.474110</td>\n",
       "      <td>-0.464399</td>\n",
       "    </tr>\n",
       "    <tr>\n",
       "      <th>1</th>\n",
       "      <td>-0.211208</td>\n",
       "      <td>-0.352585</td>\n",
       "      <td>-0.210752</td>\n",
       "      <td>-0.229057</td>\n",
       "      <td>-0.222434</td>\n",
       "      <td>-0.354913</td>\n",
       "      <td>-0.214121</td>\n",
       "      <td>-0.230640</td>\n",
       "      <td>-0.245862</td>\n",
       "      <td>-0.126036</td>\n",
       "      <td>0.778021</td>\n",
       "      <td>0.879112</td>\n",
       "    </tr>\n",
       "    <tr>\n",
       "      <th>2</th>\n",
       "      <td>-0.193859</td>\n",
       "      <td>-0.346498</td>\n",
       "      <td>0.095769</td>\n",
       "      <td>-0.062069</td>\n",
       "      <td>-0.202300</td>\n",
       "      <td>-0.341757</td>\n",
       "      <td>0.121527</td>\n",
       "      <td>-0.049821</td>\n",
       "      <td>-0.224739</td>\n",
       "      <td>-0.313780</td>\n",
       "      <td>-0.474110</td>\n",
       "      <td>-0.464399</td>\n",
       "    </tr>\n",
       "    <tr>\n",
       "      <th>3</th>\n",
       "      <td>-0.218568</td>\n",
       "      <td>-0.142727</td>\n",
       "      <td>-0.210752</td>\n",
       "      <td>-0.229057</td>\n",
       "      <td>-0.230975</td>\n",
       "      <td>-0.155786</td>\n",
       "      <td>-0.214121</td>\n",
       "      <td>-0.230640</td>\n",
       "      <td>-0.104787</td>\n",
       "      <td>-0.090177</td>\n",
       "      <td>-0.104431</td>\n",
       "      <td>-0.067741</td>\n",
       "    </tr>\n",
       "    <tr>\n",
       "      <th>4</th>\n",
       "      <td>0.144921</td>\n",
       "      <td>0.362670</td>\n",
       "      <td>-0.210752</td>\n",
       "      <td>-0.229057</td>\n",
       "      <td>0.190856</td>\n",
       "      <td>0.435277</td>\n",
       "      <td>-0.214121</td>\n",
       "      <td>-0.230640</td>\n",
       "      <td>-0.071581</td>\n",
       "      <td>-0.124053</td>\n",
       "      <td>-0.474110</td>\n",
       "      <td>-0.464399</td>\n",
       "    </tr>\n",
       "    <tr>\n",
       "      <th>...</th>\n",
       "      <td>...</td>\n",
       "      <td>...</td>\n",
       "      <td>...</td>\n",
       "      <td>...</td>\n",
       "      <td>...</td>\n",
       "      <td>...</td>\n",
       "      <td>...</td>\n",
       "      <td>...</td>\n",
       "      <td>...</td>\n",
       "      <td>...</td>\n",
       "      <td>...</td>\n",
       "      <td>...</td>\n",
       "    </tr>\n",
       "    <tr>\n",
       "      <th>2584</th>\n",
       "      <td>-0.258970</td>\n",
       "      <td>-0.420656</td>\n",
       "      <td>-0.210752</td>\n",
       "      <td>-0.229057</td>\n",
       "      <td>-0.277731</td>\n",
       "      <td>-0.423406</td>\n",
       "      <td>-0.214121</td>\n",
       "      <td>-0.230640</td>\n",
       "      <td>-1.939092</td>\n",
       "      <td>-2.653920</td>\n",
       "      <td>-0.474110</td>\n",
       "      <td>-0.464399</td>\n",
       "    </tr>\n",
       "    <tr>\n",
       "      <th>2585</th>\n",
       "      <td>-0.260757</td>\n",
       "      <td>-0.430938</td>\n",
       "      <td>-0.210752</td>\n",
       "      <td>-0.229057</td>\n",
       "      <td>-0.279935</td>\n",
       "      <td>-0.433945</td>\n",
       "      <td>-0.214121</td>\n",
       "      <td>-0.230640</td>\n",
       "      <td>-1.858626</td>\n",
       "      <td>-2.566661</td>\n",
       "      <td>-0.474110</td>\n",
       "      <td>-0.464399</td>\n",
       "    </tr>\n",
       "    <tr>\n",
       "      <th>2586</th>\n",
       "      <td>-0.245725</td>\n",
       "      <td>-0.405574</td>\n",
       "      <td>-0.210752</td>\n",
       "      <td>-0.229057</td>\n",
       "      <td>-0.262267</td>\n",
       "      <td>-0.408117</td>\n",
       "      <td>-0.214121</td>\n",
       "      <td>-0.230640</td>\n",
       "      <td>-1.939092</td>\n",
       "      <td>-2.653920</td>\n",
       "      <td>-0.474110</td>\n",
       "      <td>-0.464399</td>\n",
       "    </tr>\n",
       "    <tr>\n",
       "      <th>2587</th>\n",
       "      <td>-0.258676</td>\n",
       "      <td>-0.422063</td>\n",
       "      <td>-0.210752</td>\n",
       "      <td>-0.229057</td>\n",
       "      <td>-0.277521</td>\n",
       "      <td>-0.425083</td>\n",
       "      <td>-0.214121</td>\n",
       "      <td>-0.230640</td>\n",
       "      <td>-2.031541</td>\n",
       "      <td>-2.608039</td>\n",
       "      <td>-0.474110</td>\n",
       "      <td>-0.464399</td>\n",
       "    </tr>\n",
       "    <tr>\n",
       "      <th>2588</th>\n",
       "      <td>-0.281829</td>\n",
       "      <td>-0.446678</td>\n",
       "      <td>-0.210752</td>\n",
       "      <td>-0.229057</td>\n",
       "      <td>-0.304390</td>\n",
       "      <td>-0.449781</td>\n",
       "      <td>-0.214121</td>\n",
       "      <td>-0.230640</td>\n",
       "      <td>-2.038090</td>\n",
       "      <td>-2.598999</td>\n",
       "      <td>1.020985</td>\n",
       "      <td>1.139807</td>\n",
       "    </tr>\n",
       "  </tbody>\n",
       "</table>\n",
       "<p>2589 rows × 12 columns</p>\n",
       "</div>"
      ],
      "text/plain": [
       "        AVLAND     AVTOT    EXLAND     EXTOT   AVLAND2    AVTOT2   EXLAND2  \\\n",
       "0    -0.173742 -0.312173  0.165863 -0.004853 -0.178955 -0.307608  0.198283   \n",
       "1    -0.211208 -0.352585 -0.210752 -0.229057 -0.222434 -0.354913 -0.214121   \n",
       "2    -0.193859 -0.346498  0.095769 -0.062069 -0.202300 -0.341757  0.121527   \n",
       "3    -0.218568 -0.142727 -0.210752 -0.229057 -0.230975 -0.155786 -0.214121   \n",
       "4     0.144921  0.362670 -0.210752 -0.229057  0.190856  0.435277 -0.214121   \n",
       "...        ...       ...       ...       ...       ...       ...       ...   \n",
       "2584 -0.258970 -0.420656 -0.210752 -0.229057 -0.277731 -0.423406 -0.214121   \n",
       "2585 -0.260757 -0.430938 -0.210752 -0.229057 -0.279935 -0.433945 -0.214121   \n",
       "2586 -0.245725 -0.405574 -0.210752 -0.229057 -0.262267 -0.408117 -0.214121   \n",
       "2587 -0.258676 -0.422063 -0.210752 -0.229057 -0.277521 -0.425083 -0.214121   \n",
       "2588 -0.281829 -0.446678 -0.210752 -0.229057 -0.304390 -0.449781 -0.214121   \n",
       "\n",
       "        EXTOT2  Latitude  Longitude    LTAREA   BLDAREA  \n",
       "0     0.007340 -0.228062  -0.289753 -0.474110 -0.464399  \n",
       "1    -0.230640 -0.245862  -0.126036  0.778021  0.879112  \n",
       "2    -0.049821 -0.224739  -0.313780 -0.474110 -0.464399  \n",
       "3    -0.230640 -0.104787  -0.090177 -0.104431 -0.067741  \n",
       "4    -0.230640 -0.071581  -0.124053 -0.474110 -0.464399  \n",
       "...        ...       ...        ...       ...       ...  \n",
       "2584 -0.230640 -1.939092  -2.653920 -0.474110 -0.464399  \n",
       "2585 -0.230640 -1.858626  -2.566661 -0.474110 -0.464399  \n",
       "2586 -0.230640 -1.939092  -2.653920 -0.474110 -0.464399  \n",
       "2587 -0.230640 -2.031541  -2.608039 -0.474110 -0.464399  \n",
       "2588 -0.230640 -2.038090  -2.598999  1.020985  1.139807  \n",
       "\n",
       "[2589 rows x 12 columns]"
      ]
     },
     "execution_count": 174,
     "metadata": {},
     "output_type": "execute_result"
    }
   ],
   "source": [
    "X"
   ]
  },
  {
   "cell_type": "code",
   "execution_count": 128,
   "metadata": {},
   "outputs": [],
   "source": [
    "data['AVLAND2'] = data['AVLAND2'].fillna(0)"
   ]
  },
  {
   "cell_type": "code",
   "execution_count": 186,
   "metadata": {},
   "outputs": [],
   "source": [
    "model = tf.keras.Sequential([\n",
    "    tf.keras.layers.Dense(256, activation='relu'),\n",
    "    tf.keras.layers.Dense(256, activation='relu'),\n",
    "    tf.keras.layers.Dense(128, activation='relu'),\n",
    "    tf.keras.layers.Dense(1)\n",
    "\n",
    "])\n",
    "\n",
    "model.compile(\n",
    "    optimizer=tf.optimizers.Adam(learning_rate=0.1),\n",
    "    loss='mse')"
   ]
  },
  {
   "cell_type": "code",
   "execution_count": 187,
   "metadata": {},
   "outputs": [
    {
     "name": "stdout",
     "output_type": "stream",
     "text": [
      "Epoch 1/100\n",
      "81/81 [==============================] - 1s 2ms/step - loss: 1373478191104.0000\n",
      "Epoch 2/100\n",
      "81/81 [==============================] - 0s 2ms/step - loss: 342878060544.0000\n",
      "Epoch 3/100\n",
      "81/81 [==============================] - 0s 2ms/step - loss: 204132958208.0000\n",
      "Epoch 4/100\n",
      "81/81 [==============================] - 0s 2ms/step - loss: 2163630800896.0000\n",
      "Epoch 5/100\n",
      "81/81 [==============================] - 0s 2ms/step - loss: 57307996160.0000\n",
      "Epoch 6/100\n",
      "81/81 [==============================] - 0s 2ms/step - loss: 29115869184.0000\n",
      "Epoch 7/100\n",
      "81/81 [==============================] - 0s 2ms/step - loss: 13115521024.0000\n",
      "Epoch 8/100\n",
      "81/81 [==============================] - 0s 2ms/step - loss: 64076398592.0000\n",
      "Epoch 9/100\n",
      "81/81 [==============================] - 0s 2ms/step - loss: 19362672640.0000\n",
      "Epoch 10/100\n",
      "81/81 [==============================] - 0s 2ms/step - loss: 19352844288.0000\n",
      "Epoch 11/100\n",
      "81/81 [==============================] - 0s 2ms/step - loss: 9669158912.0000\n",
      "Epoch 12/100\n",
      "81/81 [==============================] - 0s 3ms/step - loss: 17066491904.0000\n",
      "Epoch 13/100\n",
      "81/81 [==============================] - 0s 2ms/step - loss: 30193500160.0000\n",
      "Epoch 14/100\n",
      "81/81 [==============================] - 0s 3ms/step - loss: 112577011712.0000\n",
      "Epoch 15/100\n",
      "81/81 [==============================] - 0s 3ms/step - loss: 343004119040.0000\n",
      "Epoch 16/100\n",
      "81/81 [==============================] - 0s 2ms/step - loss: 111182102528.0000\n",
      "Epoch 17/100\n",
      "81/81 [==============================] - 0s 2ms/step - loss: 133246230528.0000\n",
      "Epoch 18/100\n",
      "81/81 [==============================] - 0s 2ms/step - loss: 15598390272.0000\n",
      "Epoch 19/100\n",
      "81/81 [==============================] - 0s 2ms/step - loss: 42740228096.0000\n",
      "Epoch 20/100\n",
      "81/81 [==============================] - 0s 2ms/step - loss: 51842924544.0000\n",
      "Epoch 21/100\n",
      "81/81 [==============================] - 0s 2ms/step - loss: 9194503168.0000\n",
      "Epoch 22/100\n",
      "81/81 [==============================] - 0s 2ms/step - loss: 8191400960.0000\n",
      "Epoch 23/100\n",
      "81/81 [==============================] - 0s 2ms/step - loss: 6529172992.0000\n",
      "Epoch 24/100\n",
      "81/81 [==============================] - 0s 2ms/step - loss: 10329167872.0000\n",
      "Epoch 25/100\n",
      "81/81 [==============================] - 0s 2ms/step - loss: 5201449472.0000\n",
      "Epoch 26/100\n",
      "81/81 [==============================] - 0s 2ms/step - loss: 5988505600.0000\n",
      "Epoch 27/100\n",
      "81/81 [==============================] - 0s 2ms/step - loss: 26324193280.0000\n",
      "Epoch 28/100\n",
      "81/81 [==============================] - 0s 2ms/step - loss: 12660255744.0000\n",
      "Epoch 29/100\n",
      "81/81 [==============================] - 0s 2ms/step - loss: 8735834112.0000\n",
      "Epoch 30/100\n",
      "81/81 [==============================] - 0s 2ms/step - loss: 26689720320.0000\n",
      "Epoch 31/100\n",
      "81/81 [==============================] - 0s 2ms/step - loss: 14063972352.0000\n",
      "Epoch 32/100\n",
      "81/81 [==============================] - 0s 2ms/step - loss: 15565616128.0000\n",
      "Epoch 33/100\n",
      "81/81 [==============================] - 0s 2ms/step - loss: 26728353792.0000\n",
      "Epoch 34/100\n",
      "81/81 [==============================] - 0s 2ms/step - loss: 80578256896.0000\n",
      "Epoch 35/100\n",
      "81/81 [==============================] - 0s 2ms/step - loss: 16160232448.0000\n",
      "Epoch 36/100\n",
      "81/81 [==============================] - 0s 2ms/step - loss: 12179611648.0000\n",
      "Epoch 37/100\n",
      "81/81 [==============================] - 0s 2ms/step - loss: 15602098176.0000\n",
      "Epoch 38/100\n",
      "81/81 [==============================] - 0s 2ms/step - loss: 20880824320.0000\n",
      "Epoch 39/100\n",
      "81/81 [==============================] - 0s 2ms/step - loss: 28748531712.0000\n",
      "Epoch 40/100\n",
      "81/81 [==============================] - 0s 2ms/step - loss: 22692132864.0000\n",
      "Epoch 41/100\n",
      "81/81 [==============================] - 0s 2ms/step - loss: 33813387264.0000\n",
      "Epoch 42/100\n",
      "81/81 [==============================] - 0s 2ms/step - loss: 25483958272.0000\n",
      "Epoch 43/100\n",
      "81/81 [==============================] - 0s 2ms/step - loss: 16982623232.0000\n",
      "Epoch 44/100\n",
      "81/81 [==============================] - 0s 2ms/step - loss: 99154698240.0000\n",
      "Epoch 45/100\n",
      "81/81 [==============================] - 0s 2ms/step - loss: 12895661056.0000\n",
      "Epoch 46/100\n",
      "81/81 [==============================] - 0s 2ms/step - loss: 23613771776.0000\n",
      "Epoch 47/100\n",
      "81/81 [==============================] - 0s 2ms/step - loss: 11890721792.0000\n",
      "Epoch 48/100\n",
      "81/81 [==============================] - 0s 2ms/step - loss: 5389696512.0000\n",
      "Epoch 49/100\n",
      "81/81 [==============================] - 0s 2ms/step - loss: 37870100480.0000\n",
      "Epoch 50/100\n",
      "81/81 [==============================] - 0s 2ms/step - loss: 77524803584.0000\n",
      "Epoch 51/100\n",
      "81/81 [==============================] - 0s 2ms/step - loss: 117680267264.0000\n",
      "Epoch 52/100\n",
      "81/81 [==============================] - 0s 2ms/step - loss: 10625120256.0000\n",
      "Epoch 53/100\n",
      "81/81 [==============================] - 0s 2ms/step - loss: 8014211072.0000\n",
      "Epoch 54/100\n",
      "81/81 [==============================] - 0s 2ms/step - loss: 9389285376.0000\n",
      "Epoch 55/100\n",
      "81/81 [==============================] - 0s 2ms/step - loss: 7783559680.0000\n",
      "Epoch 56/100\n",
      "81/81 [==============================] - 0s 2ms/step - loss: 5403947008.0000\n",
      "Epoch 57/100\n",
      "81/81 [==============================] - 0s 2ms/step - loss: 5105863680.0000\n",
      "Epoch 58/100\n",
      "81/81 [==============================] - 0s 2ms/step - loss: 11850411008.0000\n",
      "Epoch 59/100\n",
      "81/81 [==============================] - 0s 2ms/step - loss: 20595175424.0000\n",
      "Epoch 60/100\n",
      "81/81 [==============================] - 0s 2ms/step - loss: 10707569664.0000\n",
      "Epoch 61/100\n",
      "81/81 [==============================] - 0s 2ms/step - loss: 31474192384.0000\n",
      "Epoch 62/100\n",
      "81/81 [==============================] - 0s 2ms/step - loss: 39371931648.0000\n",
      "Epoch 63/100\n",
      "81/81 [==============================] - 0s 2ms/step - loss: 15506168832.0000\n",
      "Epoch 64/100\n",
      "81/81 [==============================] - 0s 2ms/step - loss: 14377356288.0000\n",
      "Epoch 65/100\n",
      "81/81 [==============================] - 0s 2ms/step - loss: 6882617856.0000\n",
      "Epoch 66/100\n",
      "81/81 [==============================] - 0s 2ms/step - loss: 3149006592.0000\n",
      "Epoch 67/100\n",
      "81/81 [==============================] - 0s 2ms/step - loss: 2933056256.0000\n",
      "Epoch 68/100\n",
      "81/81 [==============================] - 0s 2ms/step - loss: 3342267136.0000\n",
      "Epoch 69/100\n",
      "81/81 [==============================] - 0s 2ms/step - loss: 5470762496.0000\n",
      "Epoch 70/100\n",
      "81/81 [==============================] - 0s 2ms/step - loss: 10920213504.0000\n",
      "Epoch 71/100\n",
      "81/81 [==============================] - 0s 2ms/step - loss: 4104004864.0000\n",
      "Epoch 72/100\n",
      "81/81 [==============================] - 0s 2ms/step - loss: 7152615936.0000\n",
      "Epoch 73/100\n",
      "81/81 [==============================] - 0s 2ms/step - loss: 10764786688.0000\n",
      "Epoch 74/100\n",
      "81/81 [==============================] - 0s 2ms/step - loss: 17650710528.0000\n",
      "Epoch 75/100\n",
      "81/81 [==============================] - 0s 2ms/step - loss: 6084737536.0000\n",
      "Epoch 76/100\n",
      "81/81 [==============================] - 0s 2ms/step - loss: 25230749696.0000\n",
      "Epoch 77/100\n",
      "81/81 [==============================] - 0s 2ms/step - loss: 18777776128.0000\n",
      "Epoch 78/100\n",
      "81/81 [==============================] - 0s 2ms/step - loss: 121034735616.0000\n",
      "Epoch 79/100\n",
      "81/81 [==============================] - 0s 2ms/step - loss: 50208845824.0000\n",
      "Epoch 80/100\n",
      "81/81 [==============================] - 0s 2ms/step - loss: 18134992896.0000\n",
      "Epoch 81/100\n",
      "81/81 [==============================] - 0s 2ms/step - loss: 4019806976.0000\n",
      "Epoch 82/100\n",
      "81/81 [==============================] - 0s 2ms/step - loss: 2117846272.0000\n",
      "Epoch 83/100\n",
      "81/81 [==============================] - 0s 2ms/step - loss: 1600370304.0000\n",
      "Epoch 84/100\n",
      "81/81 [==============================] - 0s 2ms/step - loss: 5852507136.0000\n",
      "Epoch 85/100\n",
      "81/81 [==============================] - 0s 2ms/step - loss: 18468317184.0000\n",
      "Epoch 86/100\n",
      "81/81 [==============================] - 0s 2ms/step - loss: 20948713472.0000\n",
      "Epoch 87/100\n",
      "81/81 [==============================] - 0s 2ms/step - loss: 41336090624.0000\n",
      "Epoch 88/100\n",
      "81/81 [==============================] - 0s 2ms/step - loss: 33821513728.0000\n",
      "Epoch 89/100\n",
      "81/81 [==============================] - 0s 2ms/step - loss: 6725757952.0000\n",
      "Epoch 90/100\n",
      "81/81 [==============================] - 0s 2ms/step - loss: 6348116992.0000\n",
      "Epoch 91/100\n",
      "81/81 [==============================] - 0s 2ms/step - loss: 2969444608.0000\n",
      "Epoch 92/100\n",
      "81/81 [==============================] - 0s 2ms/step - loss: 1997667328.0000\n",
      "Epoch 93/100\n",
      "81/81 [==============================] - 0s 2ms/step - loss: 8460623360.0000\n",
      "Epoch 94/100\n",
      "81/81 [==============================] - 0s 2ms/step - loss: 23211339776.0000\n",
      "Epoch 95/100\n",
      "81/81 [==============================] - 0s 2ms/step - loss: 251418656768.0000\n",
      "Epoch 96/100\n",
      "81/81 [==============================] - 0s 2ms/step - loss: 17859219456.0000\n",
      "Epoch 97/100\n",
      "81/81 [==============================] - 0s 2ms/step - loss: 25736423424.0000\n",
      "Epoch 98/100\n",
      "81/81 [==============================] - 0s 2ms/step - loss: 12556871680.0000\n",
      "Epoch 99/100\n",
      "81/81 [==============================] - 0s 2ms/step - loss: 3743658240.0000\n",
      "Epoch 100/100\n",
      "81/81 [==============================] - 0s 2ms/step - loss: 1709693184.0000\n"
     ]
    }
   ],
   "source": [
    "hist = model.fit(X, y, epochs=100)"
   ]
  },
  {
   "cell_type": "code",
   "execution_count": 188,
   "metadata": {},
   "outputs": [
    {
     "data": {
      "text/plain": [
       "[<matplotlib.lines.Line2D at 0x7fbda189bfd0>]"
      ]
     },
     "execution_count": 188,
     "metadata": {},
     "output_type": "execute_result"
    },
    {
     "data": {
      "image/png": "[encoded data removed]",
      "text/plain": [
       "<Figure size 432x288 with 1 Axes>"
      ]
     },
     "metadata": {
      "needs_background": "light"
     },
     "output_type": "display_data"
    }
   ],
   "source": [
    "plt.plot(hist.history['loss'])"
   ]
  },
  {
   "cell_type": "code",
   "execution_count": 195,
   "metadata": {},
   "outputs": [
    {
     "data": {
      "text/plain": [
       "0.9372652487557286"
      ]
     },
     "execution_count": 195,
     "metadata": {},
     "output_type": "execute_result"
    }
   ],
   "source": [
    "(np.mean(data['FULLVAL']) - 83782) / np.mean(data['FULLVAL'])"
   ]
  },
  {
   "cell_type": "code",
   "execution_count": 196,
   "metadata": {},
   "outputs": [
    {
     "data": {
      "text/plain": [
       "1251713.8509961492"
      ]
     },
     "execution_count": 196,
     "metadata": {},
     "output_type": "execute_result"
    }
   ],
   "source": [
    "(np.mean(data['FULLVAL']) - 83782)"
   ]
  },
  {
   "cell_type": "code",
   "execution_count": 258,
   "metadata": {},
   "outputs": [
    {
     "data": {
      "text/plain": [
       "1335495.8509961492"
      ]
     },
     "execution_count": 258,
     "metadata": {},
     "output_type": "execute_result"
    }
   ],
   "source": [
    "np.mean(data['FULLVAL'])"
   ]
  },
  {
   "cell_type": "code",
   "execution_count": 318,
   "metadata": {},
   "outputs": [],
   "source": [
    "from pathlib import Path\n",
    "import json\n",
    "\n",
    "\n",
    "gird_search_dir = Path('results/grid_search')\n",
    "dir_paths = [d for d in gird_search_dir.iterdir() if d.is_dir()]\n",
    "dir_paths.sort()\n",
    "\n",
    "r2_res = {}\n",
    "mae_res = {}\n",
    "cols_names = []\n",
    "threshs = []\n",
    "\n",
    "for dir_path in dir_paths:\n",
    "    cols = '_'.join(dir_path.name.split('_')[:-1])\n",
    "    cols_names.append(cols)\n",
    "    thresh = dir_path.name.split('_')[-1]\n",
    "    threshs.append(thresh)\n",
    "    total_res_path = dir_path / f'model_total_{thresh}.json'\n",
    "    \n",
    "    with open(total_res_path, 'rt') as f:\n",
    "        total_res = json.load(f)\n",
    "        \n",
    "        if cols not in r2_res:\n",
    "            r2_res[cols] = [total_res['r2_avg']]\n",
    "            mae_res[cols] = [total_res['mae_avg']]\n",
    "        else:\n",
    "            r2_res[cols].append(total_res['r2_avg'])\n",
    "            mae_res[cols].append(total_res['mae_avg'])\n",
    "        \n",
    "cols_names = list(np.unique(cols_names))\n",
    "threshs = list(np.unique(threshs))\n",
    "\n",
    "r2_res_arr = []\n",
    "for k, v in r2_res.items():\n",
    "    r2_res_arr.append(v)\n",
    "    \n",
    "r2_res_arr = np.array(r2_res_arr)\n",
    "\n",
    "mae_res_arr = []\n",
    "for k, v in mae_res.items():\n",
    "    mae_res_arr.append(v)\n",
    "    \n",
    "mae_res_arr = np.array(mae_res_arr)\n",
    "\n",
    "mae_res_arr /= np.mean(data['FULLVAL'])\n",
    "mae_res_arr = np.abs(mae_res_arr)\n"
   ]
  },
  {
   "cell_type": "code",
   "execution_count": 319,
   "metadata": {},
   "outputs": [
    {
     "data": {
      "text/plain": [
       "array([[2.82664372e+07, 2.82664372e+07, 6.38783626e-02, 6.45153112e-02,\n",
       "        6.67970160e-02],\n",
       "       [3.14613577e+07, 3.14613577e+07, 6.33143001e-02, 6.33703903e-02,\n",
       "        6.55967794e-02],\n",
       "       [6.09038899e-02, 6.33057009e-02, 6.29253712e-02, 6.27348277e-02,\n",
       "        6.49354348e-02],\n",
       "       [6.11532120e-02, 6.31908823e-02, 6.31908823e-02, 6.31638175e-02,\n",
       "        6.45313869e-02],\n",
       "       [2.81792059e+07, 2.81792059e+07, 6.35503127e-02, 6.39621768e-02,\n",
       "        6.60392880e-02],\n",
       "       [2.83151896e+07, 2.83151896e+07, 6.35908296e-02, 6.39290553e-02,\n",
       "        7.19894827e-02],\n",
       "       [2.82773592e+07, 2.82773592e+07, 6.32882483e-02, 6.36670387e-02,\n",
       "        7.07518656e-02]])"
      ]
     },
     "execution_count": 319,
     "metadata": {},
     "output_type": "execute_result"
    }
   ],
   "source": [
    "# mae_res_arr -= np.mean(data['FULLVAL'])\n",
    "mae_res_arr"
   ]
  },
  {
   "cell_type": "code",
   "execution_count": 305,
   "metadata": {},
   "outputs": [
    {
     "data": {
      "text/plain": [
       "array([[-1.28254459e+19, -1.28254459e+19, -1.33549501e+06,\n",
       "        -1.33549502e+06, -1.33549503e+06],\n",
       "       [-1.58885861e+19, -1.58885861e+19, -1.33549501e+06,\n",
       "        -1.33549501e+06, -1.33549502e+06],\n",
       "       [-1.33549506e+06, -1.33549505e+06, -1.33549500e+06,\n",
       "        -1.33549500e+06, -1.33549502e+06],\n",
       "       [-1.33549508e+06, -1.33549509e+06, -1.33549509e+06,\n",
       "        -1.33549509e+06, -1.33549510e+06],\n",
       "       [-1.27464084e+19, -1.27464084e+19, -1.33549501e+06,\n",
       "        -1.33549502e+06, -1.33549503e+06],\n",
       "       [-1.28697254e+19, -1.28697254e+19, -1.33549501e+06,\n",
       "        -1.33549501e+06, -1.33549503e+06],\n",
       "       [-1.28353592e+19, -1.28353592e+19, -1.33549501e+06,\n",
       "        -1.33549501e+06, -1.33549503e+06]])"
      ]
     },
     "execution_count": 305,
     "metadata": {},
     "output_type": "execute_result"
    }
   ],
   "source": [
    "mae_res_arr"
   ]
  },
  {
   "cell_type": "code",
   "execution_count": 328,
   "metadata": {},
   "outputs": [
    {
     "data": {
      "text/plain": [
       "Text(0, 0.5, 'Required columns')"
      ]
     },
     "execution_count": 328,
     "metadata": {},
     "output_type": "execute_result"
    },
    {
     "data": {
      "image/png": "[encoded data removed]",
      "text/plain": [
       "<Figure size 648x648 with 2 Axes>"
      ]
     },
     "metadata": {
      "needs_background": "light"
     },
     "output_type": "display_data"
    }
   ],
   "source": [
    "# selected\n",
    "fig, ax = plt.subplots(figsize=(9, 9))\n",
    "im = ax.imshow(r2_res_arr[:, 2:])\n",
    "\n",
    "cbar = ax.figure.colorbar(im, ax=ax)\n",
    "\n",
    "ax.set_xticks(np.arange(len(threshs[2:])), labels=threshs[2:])\n",
    "ax.set_yticks(np.arange(len(cols_names)), labels=cols_names)\n",
    "\n",
    "for i in range(len(cols_names)):\n",
    "    for j in range(len(threshs[2:])):\n",
    "        text = ax.text(j, i, round(r2_res_arr[i, j+2], 5),\n",
    "                       ha=\"center\", va=\"center\", color=\"w\")\n",
    "        \n",
    "ax.set_title('R2 score (determination coefficient)')\n",
    "ax.set_xlabel('Threshold of correlation')\n",
    "ax.set_ylabel('Required columns')\n",
    "        "
   ]
  },
  {
   "cell_type": "code",
   "execution_count": 327,
   "metadata": {},
   "outputs": [
    {
     "data": {
      "text/plain": [
       "Text(0, 0.5, 'Required columns')"
      ]
     },
     "execution_count": 327,
     "metadata": {},
     "output_type": "execute_result"
    },
    {
     "data": {
      "image/png": "[encoded data removed]",
      "text/plain": [
       "<Figure size 648x648 with 2 Axes>"
      ]
     },
     "metadata": {
      "needs_background": "light"
     },
     "output_type": "display_data"
    }
   ],
   "source": [
    "fig, ax = plt.subplots(figsize=(9,9))\n",
    "im = ax.imshow(mae_res_arr[:, 2:])\n",
    "\n",
    "cbar = ax.figure.colorbar(im, ax=ax)\n",
    "\n",
    "ax.set_xticks(np.arange(len(threshs[2:])), labels=threshs[2:])\n",
    "ax.set_yticks(np.arange(len(cols_names)), labels=cols_names)\n",
    "\n",
    "for i in range(len(cols_names)):\n",
    "    for j in range(len(threshs[2:])):\n",
    "        text = ax.text(j, i, round(mae_res_arr[i, j+2], 5),\n",
    "                       ha=\"center\", va=\"center\", color=\"w\")\n",
    "        \n",
    "ax.set_title('Mean Average Error / Mean FULLVAL')\n",
    "ax.set_xlabel('Threshold of correlation')\n",
    "ax.set_ylabel('Required columns')"
   ]
  },
  {
   "cell_type": "code",
   "execution_count": null,
   "metadata": {},
   "outputs": [],
   "source": []
  }
 ],
 "metadata": {
  "interpreter": {
   "hash": "3ef21b57a821813d34917d5bd52847c638dce0dd35d3617bbb16c5be26f1ccd8"
  },
  "kernelspec": {
   "display_name": "Python 3.9.12 ('pakmany')",
   "language": "python",
   "name": "python3"
  },
  "language_info": {
   "codemirror_mode": {
    "name": "ipython",
    "version": 3
   },
   "file_extension": ".py",
   "mimetype": "text/x-python",
   "name": "python",
   "nbconvert_exporter": "python",
   "pygments_lexer": "ipython3",
   "version": "3.9.12"
  },
  "orig_nbformat": 4
 },
 "nbformat": 4,
 "nbformat_minor": 2
}
